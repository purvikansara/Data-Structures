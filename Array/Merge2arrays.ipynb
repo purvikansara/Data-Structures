{
 "cells": [
  {
   "cell_type": "markdown",
   "id": "5aa38a83",
   "metadata": {},
   "source": [
    "# Merge two sorted arrays"
   ]
  },
  {
   "cell_type": "code",
   "execution_count": 14,
   "id": "f7a6fab5",
   "metadata": {},
   "outputs": [],
   "source": [
    "a1 = [2,5,7,9]\n",
    "a2 = [3,7,8,10]"
   ]
  },
  {
   "cell_type": "code",
   "execution_count": 22,
   "id": "5abe1c86",
   "metadata": {},
   "outputs": [
    {
     "name": "stdout",
     "output_type": "stream",
     "text": [
      "[None, None, None, None]\n"
     ]
    }
   ],
   "source": [
    "a3 = [None] *(4)\n",
    "n1=len(a1)\n",
    "n2=len(a2)\n",
    "print((a3))"
   ]
  },
  {
   "cell_type": "code",
   "execution_count": 23,
   "id": "58a4b0a0",
   "metadata": {},
   "outputs": [],
   "source": [
    "def mergeary(a1,a2,n1,n2):\n",
    "    a3 = [None] * (n1 +n2)\n",
    "    print(type(a3))\n",
    "    i=0\n",
    "    j=0\n",
    "    k=0\n",
    "    while i<n1 and j<n2:\n",
    "        if a1[i]<a2[j]:\n",
    "            a3[k] = a1[i]\n",
    "            k=k+1\n",
    "            i=i+1\n",
    "        else:\n",
    "            a3[k] = a2[j]\n",
    "            k=k+1\n",
    "            j=j+1\n",
    "            \n",
    "    while i<n1:\n",
    "        a3[k]=a1[i]\n",
    "        k=k+1\n",
    "        i=i+1\n",
    "    while j<n2:\n",
    "        a3[k]=a2[j]\n",
    "        k=k+1\n",
    "        j=j+1\n",
    "    \n",
    "    for i in range(n1+n2):\n",
    "        print(a3[i],end = '  ')\n",
    "        \n",
    "    "
   ]
  },
  {
   "cell_type": "code",
   "execution_count": 24,
   "id": "e3b0c5bf",
   "metadata": {},
   "outputs": [
    {
     "name": "stdout",
     "output_type": "stream",
     "text": [
      "<class 'list'>\n",
      "2  3  5  7  7  8  9  10  "
     ]
    }
   ],
   "source": [
    "mergeary(a1,a2,n1,n2)"
   ]
  }
 ],
 "metadata": {
  "kernelspec": {
   "display_name": "Python (dojo-env)",
   "language": "python",
   "name": "dojo-env"
  },
  "language_info": {
   "codemirror_mode": {
    "name": "ipython",
    "version": 3
   },
   "file_extension": ".py",
   "mimetype": "text/x-python",
   "name": "python",
   "nbconvert_exporter": "python",
   "pygments_lexer": "ipython3",
   "version": "3.8.13"
  },
  "toc": {
   "base_numbering": 1,
   "nav_menu": {},
   "number_sections": true,
   "sideBar": true,
   "skip_h1_title": false,
   "title_cell": "Table of Contents",
   "title_sidebar": "Contents",
   "toc_cell": false,
   "toc_position": {
    "height": "calc(100% - 180px)",
    "left": "10px",
    "top": "150px",
    "width": "202.797px"
   },
   "toc_section_display": true,
   "toc_window_display": true
  }
 },
 "nbformat": 4,
 "nbformat_minor": 5
}
