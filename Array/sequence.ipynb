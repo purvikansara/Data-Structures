{
 "cells": [
  {
   "cell_type": "markdown",
   "id": "038c9f9a",
   "metadata": {},
   "source": [
    "#### Given an unsorted array of integers nums, return the length of the longest consecutive elements sequence.\n",
    "\n",
    "- You must write an algorithm that runs in O(n) time."
   ]
  },
  {
   "cell_type": "markdown",
   "id": "fc6719ac",
   "metadata": {},
   "source": [
    "- Input: nums = [100,4,200,1,3,2]\n",
    "- Output: 4\n",
    "- Explanation: The longest consecutive elements sequence is [1, 2, 3, 4]. Therefore its length is 4."
   ]
  },
  {
   "cell_type": "markdown",
   "id": "db47b8eb",
   "metadata": {},
   "source": [
    "- Input: nums = [0,3,7,2,5,8,4,6,0,1]\n",
    "- Output: 9"
   ]
  },
  {
   "cell_type": "code",
   "execution_count": null,
   "id": "d6d085f8",
   "metadata": {},
   "outputs": [],
   "source": [
    "\n",
    "    def longestConsecutive(self, nums):\n",
    "        longest_streak = 0\n",
    "\n",
    "        for num in nums:\n",
    "            current_num = num\n",
    "            current_streak = 1\n",
    "\n",
    "            while current_num + 1 in nums:\n",
    "                current_num += 1\n",
    "                current_streak += 1\n",
    "\n",
    "            longest_streak = max(longest_streak, current_streak)\n",
    "\n",
    "        return longest_streak"
   ]
  },
  {
   "cell_type": "code",
   "execution_count": 1,
   "id": "980e9d29",
   "metadata": {},
   "outputs": [
    {
     "name": "stdout",
     "output_type": "stream",
     "text": [
      "4\n"
     ]
    }
   ],
   "source": [
    "nums = [100,4,200,1,3,2]\n",
    "longs=0\n",
    "for num in nums:\n",
    "    current = num\n",
    "    currents = 1\n",
    "    while current+1 in nums:\n",
    "        current +=1\n",
    "        currents += 1\n",
    "    longs = max(longs,currents)\n",
    "print(longs)\n"
   ]
  },
  {
   "cell_type": "markdown",
   "id": "f5b04b66",
   "metadata": {},
   "source": [
    "#### An Anagram is a word or phrase formed by rearranging the letters of a different word or phrase, typically using all the original letters exactly once."
   ]
  },
  {
   "cell_type": "markdown",
   "id": "1f4baa16",
   "metadata": {},
   "source": [
    "- Input: s = \"anagram\", t = \"nagaram\"\n",
    "- Output: true"
   ]
  },
  {
   "cell_type": "markdown",
   "id": "47fee63e",
   "metadata": {},
   "source": [
    "- Input: s = \"rat\", t = \"car\"\n",
    "- Output: false"
   ]
  },
  {
   "cell_type": "code",
   "execution_count": 2,
   "id": "6ae6ece4",
   "metadata": {},
   "outputs": [
    {
     "data": {
      "text/plain": [
       "True"
      ]
     },
     "execution_count": 2,
     "metadata": {},
     "output_type": "execute_result"
    }
   ],
   "source": [
    "s = \"anagram\"\n",
    "t = \"nagaram\"\n",
    "\n",
    "def isAnagram( s, t):\n",
    "        if len(s) != len(t):\n",
    "            return False\n",
    "        return sorted(s) == sorted(t)\n",
    "isAnagram(s,t)"
   ]
  },
  {
   "cell_type": "markdown",
   "id": "264d22f2",
   "metadata": {},
   "source": [
    "#### Given an array of strings strs, group the anagrams together. You can return the answer in any order."
   ]
  },
  {
   "cell_type": "markdown",
   "id": "6091c6d2",
   "metadata": {},
   "source": [
    "- Input: strs = [\"eat\",\"tea\",\"tan\",\"ate\",\"nat\",\"bat\"]\n",
    "- Output: [[\"bat\"],[\"nat\",\"tan\"],[\"ate\",\"eat\",\"tea\"]]"
   ]
  },
  {
   "cell_type": "code",
   "execution_count": 9,
   "id": "6c880e96",
   "metadata": {},
   "outputs": [],
   "source": [
    "import collections\n",
    "def groupAnagrams(strs):\n",
    "        ans = collections.defaultdict(list)\n",
    "        for s in strs:\n",
    "            ans[tuple(sorted(s))].append(s)\n",
    "            print(ans)\n",
    "        return ans.values()"
   ]
  },
  {
   "cell_type": "code",
   "execution_count": 10,
   "id": "bd14a2bf",
   "metadata": {},
   "outputs": [
    {
     "name": "stdout",
     "output_type": "stream",
     "text": [
      "defaultdict(<class 'list'>, {('a', 'e', 't'): ['eat']})\n",
      "defaultdict(<class 'list'>, {('a', 'e', 't'): ['eat', 'tea']})\n",
      "defaultdict(<class 'list'>, {('a', 'e', 't'): ['eat', 'tea'], ('a', 'n', 't'): ['tan']})\n",
      "defaultdict(<class 'list'>, {('a', 'e', 't'): ['eat', 'tea', 'ate'], ('a', 'n', 't'): ['tan']})\n",
      "defaultdict(<class 'list'>, {('a', 'e', 't'): ['eat', 'tea', 'ate'], ('a', 'n', 't'): ['tan', 'nat']})\n",
      "defaultdict(<class 'list'>, {('a', 'e', 't'): ['eat', 'tea', 'ate'], ('a', 'n', 't'): ['tan', 'nat'], ('a', 'b', 't'): ['bat']})\n"
     ]
    },
    {
     "data": {
      "text/plain": [
       "dict_values([['eat', 'tea', 'ate'], ['tan', 'nat'], ['bat']])"
      ]
     },
     "execution_count": 10,
     "metadata": {},
     "output_type": "execute_result"
    }
   ],
   "source": [
    "strs = [\"eat\",\"tea\",\"tan\",\"ate\",\"nat\",\"bat\"]\n",
    "#Output: [[\"bat\"],[\"nat\",\"tan\"],[\"ate\",\"eat\",\"tea\"]]\n",
    "    \n",
    "groupAnagrams(strs)"
   ]
  },
  {
   "cell_type": "code",
   "execution_count": null,
   "id": "deb4b3a3",
   "metadata": {},
   "outputs": [],
   "source": []
  }
 ],
 "metadata": {
  "kernelspec": {
   "display_name": "Python (dojo-env)",
   "language": "python",
   "name": "dojo-env"
  },
  "language_info": {
   "codemirror_mode": {
    "name": "ipython",
    "version": 3
   },
   "file_extension": ".py",
   "mimetype": "text/x-python",
   "name": "python",
   "nbconvert_exporter": "python",
   "pygments_lexer": "ipython3",
   "version": "3.8.13"
  },
  "toc": {
   "base_numbering": 1,
   "nav_menu": {},
   "number_sections": true,
   "sideBar": true,
   "skip_h1_title": false,
   "title_cell": "Table of Contents",
   "title_sidebar": "Contents",
   "toc_cell": false,
   "toc_position": {},
   "toc_section_display": true,
   "toc_window_display": false
  }
 },
 "nbformat": 4,
 "nbformat_minor": 5
}
