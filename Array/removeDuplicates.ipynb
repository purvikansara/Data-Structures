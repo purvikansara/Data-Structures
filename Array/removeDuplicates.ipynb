{
 "cells": [
  {
   "cell_type": "markdown",
   "id": "2e935af1",
   "metadata": {},
   "source": [
    "### remove duplicates from the array/list"
   ]
  },
  {
   "cell_type": "code",
   "execution_count": 1,
   "id": "704789e6",
   "metadata": {},
   "outputs": [
    {
     "name": "stdout",
     "output_type": "stream",
     "text": [
      "['a', 'b', 'c']\n"
     ]
    }
   ],
   "source": [
    "mylist = [\"a\", \"b\", \"a\", \"c\", \"c\"]\n",
    "mylist = list(dict.fromkeys(mylist))\n",
    "print(mylist)"
   ]
  },
  {
   "cell_type": "code",
   "execution_count": 2,
   "id": "d1881c25",
   "metadata": {},
   "outputs": [
    {
     "data": {
      "text/plain": [
       "list"
      ]
     },
     "execution_count": 2,
     "metadata": {},
     "output_type": "execute_result"
    }
   ],
   "source": [
    "type(mylist)"
   ]
  },
  {
   "cell_type": "code",
   "execution_count": 9,
   "id": "c746a7dd",
   "metadata": {},
   "outputs": [
    {
     "name": "stdout",
     "output_type": "stream",
     "text": [
      "5\n",
      "[1, 2, 4, 5, 6, 5, 6]\n"
     ]
    }
   ],
   "source": [
    "lst = [1,2,2,4,5,5,6]\n",
    "idx=1\n",
    "for i in range(len(lst)-1):\n",
    "    if lst[i] != lst[i+1]:\n",
    "        lst[idx] = lst[i+1]\n",
    "        idx=idx+1\n",
    "print(idx)\n",
    "print(lst)"
   ]
  },
  {
   "cell_type": "markdown",
   "id": "d7e6020a",
   "metadata": {},
   "source": [
    "### counting frequencies of array elements"
   ]
  },
  {
   "cell_type": "code",
   "execution_count": 11,
   "id": "9afe5e49",
   "metadata": {},
   "outputs": [],
   "source": [
    " arr= [10, 20, 20, 10, 10, 20, 5, 20]"
   ]
  },
  {
   "cell_type": "code",
   "execution_count": 23,
   "id": "d553c5e9",
   "metadata": {},
   "outputs": [
    {
     "name": "stdout",
     "output_type": "stream",
     "text": [
      "10 - 3\n",
      "20 - 4\n",
      "5 - 1\n"
     ]
    }
   ],
   "source": [
    "flag =[False] * len(arr)\n",
    "for i in range(len(arr)):\n",
    "    if flag[i]==True:\n",
    "            continue\n",
    "    count=1;\n",
    "    for j in range(i+1,len(arr)):\n",
    "        if arr[i]==arr[j]:\n",
    "            count=count+1\n",
    "            flag[j]=True   \n",
    "    print(arr[i] , '-' , count)\n",
    "    \n"
   ]
  },
  {
   "cell_type": "markdown",
   "id": "16ddc459",
   "metadata": {},
   "source": [
    "### Two sum problem\n",
    "- Given an array of integers, return indices of the two numbers such that they add up to a specific target."
   ]
  },
  {
   "cell_type": "markdown",
   "id": "8ccd1cd6",
   "metadata": {},
   "source": [
    "#Example: \n",
    "#Input: nums = [1,4,10,-3], target = 14 \n",
    "#Output: [1,2] or [2,1] # 4 + 10 = 14\n",
    "\n",
    "#Input: nums = [9,5,1,23], target = 10\n",
    "#Output: [0,2] or [2,0] # 9 + 1 = 10\n",
    "\n",
    "#Input: nums = [1,-2,5,10], target = -1\n",
    "#Output: [0,1] or [1,0] # 1 + -2 = -1"
   ]
  },
  {
   "cell_type": "code",
   "execution_count": 27,
   "id": "ad3de0b4",
   "metadata": {},
   "outputs": [
    {
     "name": "stdout",
     "output_type": "stream",
     "text": [
      "[ 1  ,2 ]\n"
     ]
    }
   ],
   "source": [
    "num = [1,4,10,-3] \n",
    "target = 14\n",
    "\n",
    "for i in range(len(num)):\n",
    "    for j in range(i+1,len(num)):\n",
    "        if num[i]+num[j]==target:\n",
    "            print(f\"[ {i}  ,{j} ]\")"
   ]
  },
  {
   "cell_type": "code",
   "execution_count": 31,
   "id": "87975c02",
   "metadata": {},
   "outputs": [
    {
     "name": "stdout",
     "output_type": "stream",
     "text": [
      "[2, 1]\n"
     ]
    }
   ],
   "source": [
    "hash_map = {}\n",
    "for i in range(len(num)):\n",
    "    if num[i] in hash_map:\n",
    "        print([i, hash_map[num[i]]])\n",
    "    else:\n",
    "        hash_map[target - num[i]] = i"
   ]
  },
  {
   "cell_type": "markdown",
   "id": "40cbdd43",
   "metadata": {},
   "source": [
    "### Third largest element in an array of distinct elements"
   ]
  },
  {
   "cell_type": "code",
   "execution_count": 37,
   "id": "edba82d4",
   "metadata": {},
   "outputs": [
    {
     "data": {
      "text/plain": [
       "14"
      ]
     },
     "execution_count": 37,
     "metadata": {},
     "output_type": "execute_result"
    }
   ],
   "source": [
    "\n",
    "a =[1, 14, 2, 16, 10, 20]\n",
    "a.sort()\n",
    "a[::-1][2]"
   ]
  },
  {
   "cell_type": "code",
   "execution_count": null,
   "id": "22d4193f",
   "metadata": {},
   "outputs": [],
   "source": []
  },
  {
   "cell_type": "code",
   "execution_count": null,
   "id": "67227051",
   "metadata": {},
   "outputs": [],
   "source": []
  },
  {
   "cell_type": "code",
   "execution_count": null,
   "id": "25801c33",
   "metadata": {},
   "outputs": [],
   "source": []
  },
  {
   "cell_type": "code",
   "execution_count": null,
   "id": "181f01d0",
   "metadata": {},
   "outputs": [],
   "source": []
  }
 ],
 "metadata": {
  "kernelspec": {
   "display_name": "Python (dojo-env)",
   "language": "python",
   "name": "dojo-env"
  },
  "language_info": {
   "codemirror_mode": {
    "name": "ipython",
    "version": 3
   },
   "file_extension": ".py",
   "mimetype": "text/x-python",
   "name": "python",
   "nbconvert_exporter": "python",
   "pygments_lexer": "ipython3",
   "version": "3.8.13"
  },
  "toc": {
   "base_numbering": 1,
   "nav_menu": {},
   "number_sections": true,
   "sideBar": true,
   "skip_h1_title": false,
   "title_cell": "Table of Contents",
   "title_sidebar": "Contents",
   "toc_cell": false,
   "toc_position": {},
   "toc_section_display": true,
   "toc_window_display": false
  }
 },
 "nbformat": 4,
 "nbformat_minor": 5
}
